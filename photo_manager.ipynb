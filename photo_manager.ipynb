{
 "cells": [
  {
   "cell_type": "code",
   "execution_count": null,
   "metadata": {},
   "outputs": [],
   "source": [
    "import os\n",
    "from PIL import Image\n",
    "from datetime import datetime\n",
    "from dateutil.relativedelta import relativedelta\n",
    "from shutil import copy, copystat"
   ]
  },
  {
   "cell_type": "code",
   "execution_count": null,
   "metadata": {},
   "outputs": [],
   "source": [
    "input_dir = r'C:\\your_path\\Input'\n",
    "output_dir = r'C:\\your_path\\Output'\n",
    "current_dir = os.getcwd()\n",
    "print(current_dir, input_dir, output_dir)"
   ]
  },
  {
   "cell_type": "code",
   "execution_count": null,
   "metadata": {},
   "outputs": [],
   "source": [
    "dir_list = os.scandir(input_dir)\n",
    "print(dir_list)"
   ]
  },
  {
   "cell_type": "code",
   "execution_count": null,
   "metadata": {},
   "outputs": [],
   "source": [
    "type(dir_list)"
   ]
  },
  {
   "cell_type": "code",
   "execution_count": null,
   "metadata": {},
   "outputs": [],
   "source": [
    "def is_jpeg(path):\n",
    "    file.path.find(\".jpeg\") > -1"
   ]
  },
  {
   "cell_type": "code",
   "execution_count": null,
   "metadata": {},
   "outputs": [],
   "source": [
    "def get_month_direcory_name(path):\n",
    "    # it the time when photo was taken\n",
    "    creation_date = datetime.fromtimestamp(os.path.getmtime(path))\n",
    "    last_day_of_the_month = datetime(creation_date.year, creation_date.month, 1) + relativedelta(months=+1, days=-1)\n",
    "\n",
    "    return last_day_of_the_month.strftime('%Y-%m-%d')"
   ]
  },
  {
   "cell_type": "code",
   "execution_count": null,
   "metadata": {},
   "outputs": [],
   "source": [
    "def is_dir_exist(directory_path):\n",
    "    return os.path.isdir(directory_path)"
   ]
  },
  {
   "cell_type": "code",
   "execution_count": null,
   "metadata": {},
   "outputs": [],
   "source": [
    "def mkdir(path):\n",
    "    os.mkdir(path)\n",
    "    print('Created directory:', year_directory_name.replace(\"\\\\\\\\\",\"\\\\\"))"
   ]
  },
  {
   "cell_type": "code",
   "execution_count": null,
   "metadata": {},
   "outputs": [],
   "source": [
    "year_dirs_count = 0\n",
    "month_dirs_count = 0\n",
    "files_count = 0\n",
    "\n",
    "for file in dir_list:\n",
    "    print(file.path)\n",
    "    if is_jpeg(file.path):\n",
    "        image = Image.open(file.path)\n",
    "        \n",
    "    creation_date = datetime.fromtimestamp(os.path.getmtime(file.path))\n",
    "    year_directory_name = output_dir + r'\\\\' + str(creation_date.year)\n",
    "    month_directory_name = year_directory_name + r'\\\\' + get_month_direcory_name(file.path) + ' Smartphone'\n",
    "    \n",
    "    if not is_dir_exist(year_directory_name):\n",
    "        mkdir(year_directory_name)\n",
    "        year_dirs_count += 1\n",
    "    \n",
    "    if not is_dir_exist(month_directory_name):\n",
    "        mkdir(month_directory_name)\n",
    "        month_dirs_count += 1\n",
    "    \n",
    "    new_path = month_directory_name + r'\\\\' + file.name\n",
    "    copy(file.path, new_path)\n",
    "    files_count += 1\n",
    "    \n",
    "    print('Copied file to to:', new_path)\n",
    "\n",
    "\n",
    "print(\n",
    "     'Job completed, total number yeras {} dirs, month {} dirs created and files copied {}'\n",
    "     .format(year_dirs_count, month_dirs_count, files_count)\n",
    ")"
   ]
  },
  {
   "cell_type": "code",
   "execution_count": null,
   "metadata": {},
   "outputs": [],
   "source": []
  },
  {
   "cell_type": "code",
   "execution_count": null,
   "metadata": {},
   "outputs": [],
   "source": []
  },
  {
   "cell_type": "code",
   "execution_count": null,
   "metadata": {},
   "outputs": [],
   "source": []
  }
 ],
 "metadata": {
  "kernelspec": {
   "display_name": "Python 3",
   "language": "python",
   "name": "python3"
  },
  "language_info": {
   "codemirror_mode": {
    "name": "ipython",
    "version": 3
   },
   "file_extension": ".py",
   "mimetype": "text/x-python",
   "name": "python",
   "nbconvert_exporter": "python",
   "pygments_lexer": "ipython3",
   "version": "3.6.4"
  }
 },
 "nbformat": 4,
 "nbformat_minor": 2
}
